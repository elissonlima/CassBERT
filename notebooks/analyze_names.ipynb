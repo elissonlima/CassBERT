{
 "cells": [
  {
   "cell_type": "code",
   "execution_count": 2,
   "id": "3ac7381c-a2a6-43df-995a-a747da0af20a",
   "metadata": {},
   "outputs": [],
   "source": [
    "import pandas as pd\n",
    "import os"
   ]
  },
  {
   "cell_type": "code",
   "execution_count": 2,
   "id": "5b8063da-92b2-4422-b434-056e95553ec4",
   "metadata": {},
   "outputs": [],
   "source": [
    "input_file = \"D:\\\\docker_projects\\\\bioinformatics\\\\sequences\\\\kaiju_dbs\\\\out\\\\kaiju.classified.names.out\"\n",
    "cols = ['classified', 'sequence_id', 'unknow_number_1', 'unknow_number_2', 'unknow_number_3',\n",
    "        'ncbi_id', 'sequence', 'taxonomy_path'] \n",
    "df = pd.read_csv(input_file, names=cols, sep='\\t')"
   ]
  },
  {
   "cell_type": "code",
   "execution_count": 3,
   "id": "4fbbf5e9-63d2-4f45-9cbb-124b39f6a402",
   "metadata": {},
   "outputs": [],
   "source": [
    "def filter_bacteria(x):\n",
    "    line_list = x.split(';')\n",
    "    if line_list[0].strip() == 'Bacteria':\n",
    "        return line_list[2]\n",
    "    else:\n",
    "        return 'NA'\n",
    "\n",
    "paths = df['taxonomy_path']\n",
    "more_commons = paths.apply(filter_bacteria).value_counts()"
   ]
  },
  {
   "cell_type": "code",
   "execution_count": 4,
   "id": "185fd39d-5c31-41ac-9a29-22da2d15ae75",
   "metadata": {},
   "outputs": [
    {
     "name": "stdout",
     "output_type": "stream",
     "text": [
      "OK Pseudomonas\n",
      "OK Terrabacteria group\n",
      "OK FCB group\n",
      "OK Streptomyces\n",
      "OK Acinetobacter\n"
     ]
    }
   ],
   "source": [
    "more_commons = [\"Pseudomonas\", \"Terrabacteria group>>Kitasatosporales\", \"FCB group\", \"Streptomyces\", \"Acinetobacter\"]\n",
    "for val in list(more_commons):\n",
    "    command = f'datasets.exe download genome taxon \\\"{val}\\\" --reference --include protein --assembly-level complete --filename {val}.zip'\n",
    "    os.system(command)\n",
    "    os.system(f'move {val}.zip bacterias\\\\')\n",
    "    print(\"OK\", val)"
   ]
  },
  {
   "cell_type": "code",
   "execution_count": null,
   "id": "beca8841-f5b7-4e08-aa34-92771bdf189e",
   "metadata": {},
   "outputs": [],
   "source": [
    "\n",
    " "
   ]
  }
 ],
 "metadata": {
  "kernelspec": {
   "display_name": "Python 3 (ipykernel)",
   "language": "python",
   "name": "python3"
  },
  "language_info": {
   "codemirror_mode": {
    "name": "ipython",
    "version": 3
   },
   "file_extension": ".py",
   "mimetype": "text/x-python",
   "name": "python",
   "nbconvert_exporter": "python",
   "pygments_lexer": "ipython3",
   "version": "3.8.19"
  }
 },
 "nbformat": 4,
 "nbformat_minor": 5
}
