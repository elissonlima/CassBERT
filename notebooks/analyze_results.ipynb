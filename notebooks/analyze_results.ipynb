{
 "cells": [
  {
   "cell_type": "code",
   "execution_count": 1,
   "metadata": {},
   "outputs": [],
   "source": [
    "import pandas as pd\n",
    "from Bio import SeqIO\n",
    "import os"
   ]
  },
  {
   "cell_type": "code",
   "execution_count": 45,
   "metadata": {
    "scrolled": true
   },
   "outputs": [],
   "source": [
    "base_dir = '/Users/elisson/code/awscin/CassBERT/trained_models/protein_final/model_k5_c3_bp100/P27-4C-R2-Trimmed'\n",
    "virus_file = os.path.join(base_dir, 'virus_1.csv')\n",
    "output_file = os.path.join(base_dir, 'P27-4C-R2-Trimmed-ML3CLPROCESSED-095.fastq')\n",
    "reference_file = \"/Users/elisson/Downloads/P27-4C-Frogskin-W44_S3_R2.trimmed.fastq\"\n",
    "\n",
    "df_virus = pd.read_csv(virus_file, sep=',', header=None, names=['seq_id', 'prob'])\n",
    "#RID-JUY08DK801R"
   ]
  },
  {
   "cell_type": "code",
   "execution_count": 46,
   "metadata": {},
   "outputs": [
    {
     "data": {
      "text/plain": [
       "seq_id    3229\n",
       "prob      3229\n",
       "dtype: int64"
      ]
     },
     "execution_count": 46,
     "metadata": {},
     "output_type": "execute_result"
    }
   ],
   "source": [
    "sub_df = df_virus[df_virus['prob'] >= 0.95]\n",
    "sub_df.count()"
   ]
  },
  {
   "cell_type": "code",
   "execution_count": 47,
   "metadata": {},
   "outputs": [],
   "source": [
    "#with open() as arq:\n",
    "sequences = SeqIO.index(reference_file, \"fastq\")\n",
    "keys = sequences.keys()\n",
    "write_keys = []\n",
    "\n",
    "for id in sub_df['seq_id']:\n",
    "    write_keys.append(id)"
   ]
  },
  {
   "cell_type": "code",
   "execution_count": 48,
   "metadata": {},
   "outputs": [],
   "source": [
    "with open(output_file, \"w\") as arq:\n",
    "    for k in write_keys:\n",
    "        SeqIO.write(sequences[k], arq, \"fastq\")"
   ]
  },
  {
   "cell_type": "code",
   "execution_count": 7,
   "metadata": {},
   "outputs": [
    {
     "name": "stdout",
     "output_type": "stream",
     "text": [
      "145675\n"
     ]
    }
   ],
   "source": [
    "sequences = SeqIO.index(\"D:\\\\docker_projects\\\\bioinformatics\\\\sequences\\\\article_process\\\\DSCG12_S12_L001_R2\\\\DSCG12_S12_L001_R2.trimmed.fastq\", \"fastq\")\n",
    "print(len(sequences.keys()))"
   ]
  },
  {
   "cell_type": "code",
   "execution_count": 19,
   "metadata": {},
   "outputs": [
    {
     "data": {
      "text/plain": [
       "35"
      ]
     },
     "execution_count": 19,
     "metadata": {},
     "output_type": "execute_result"
    }
   ],
   "source": [
    "from statistics import mean\n",
    "min(all_lenght)\n",
    "\n",
    "##150"
   ]
  },
  {
   "cell_type": "code",
   "execution_count": 16,
   "metadata": {},
   "outputs": [],
   "source": [
    "df = pd.read_csv(\"D:\\\\code\\\\CassBERT\\\\trained_models\\\\protein\\\\model_bacteria_protein_k5_old\\\\AJB1\\\\blastn_results\\\\blastn.csv\", sep=\",\")\n",
    "\n",
    "\n",
    "sequences = SeqIO.index(\"D:\\\\code\\\\CassBERT\\\\trained_models\\\\protein\\\\model_bacteria_protein_k5_old\\\\AJB1\\\\contigs.fasta\", \"fasta\")\n",
    "\n",
    "def get_lenght(x):\n",
    "    return len(sequences[x].seq)\n",
    "\n",
    "df['contig_length'] = df['Contig_ID'].apply(get_lenght)\n",
    "del df['Description']\n",
    "del df['Accession']"
   ]
  },
  {
   "cell_type": "code",
   "execution_count": 27,
   "metadata": {},
   "outputs": [],
   "source": [
    "ndf = df.loc[df.groupby([\"Contig_ID\"])[\"Max Score\"].idxmax()]\n",
    "ndf.to_csv(\"D:\\\\code\\\\CassBERT\\\\trained_models\\\\protein\\\\model_bacteria_protein_k5_old\\\\AJB1\\\\blastn_results\\\\blastn_processed.csv\")"
   ]
  },
  {
   "cell_type": "markdown",
   "metadata": {},
   "source": []
  },
  {
   "cell_type": "code",
   "execution_count": null,
   "metadata": {},
   "outputs": [],
   "source": []
  }
 ],
 "metadata": {
  "kernelspec": {
   "display_name": "Python 3 (ipykernel)",
   "language": "python",
   "name": "python3"
  },
  "language_info": {
   "codemirror_mode": {
    "name": "ipython",
    "version": 3
   },
   "file_extension": ".py",
   "mimetype": "text/x-python",
   "name": "python",
   "nbconvert_exporter": "python",
   "pygments_lexer": "ipython3",
   "version": "3.12.4"
  }
 },
 "nbformat": 4,
 "nbformat_minor": 4
}
