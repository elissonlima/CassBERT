{
 "cells": [
  {
   "cell_type": "code",
   "execution_count": null,
   "id": "76ec1228-aa26-4944-9fb6-461f219b6a58",
   "metadata": {},
   "outputs": [],
   "source": [
    "import numpy as np\n",
    "import pandas as pd"
   ]
  },
  {
   "cell_type": "code",
   "execution_count": null,
   "id": "86ca9bb7-8d2f-4428-99ff-1f3b80e1bea0",
   "metadata": {},
   "outputs": [],
   "source": [
    "artificial_reads = '~/Downloads/artificial/virus_protein.fasta'"
   ]
  },
  {
   "cell_type": "code",
   "execution_count": null,
   "id": "9c5c5917-b063-4988-83bd-915968d96d26",
   "metadata": {},
   "outputs": [],
   "source": []
  }
 ],
 "metadata": {
  "kernelspec": {
   "display_name": "",
   "name": ""
  },
  "language_info": {
   "name": ""
  }
 },
 "nbformat": 4,
 "nbformat_minor": 5
}
