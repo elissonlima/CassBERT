{
 "cells": [
  {
   "cell_type": "code",
   "execution_count": 14,
   "id": "76ec1228-aa26-4944-9fb6-461f219b6a58",
   "metadata": {},
   "outputs": [],
   "source": [
    "import numpy as np\n",
    "import pandas as pd"
   ]
  },
  {
   "cell_type": "code",
   "execution_count": 25,
   "id": "86ca9bb7-8d2f-4428-99ff-1f3b80e1bea0",
   "metadata": {},
   "outputs": [],
   "source": [
    "artificial_reads = '/hdd/code/CassBERT/dataset/cassava_protein.fasta'\n",
    "count_per_specie = {}\n",
    "\n",
    "with open(artificial_reads) as arq:\n",
    "    for line in arq:\n",
    "        if  line.startswith('>'):\n",
    "            ref=line.split(':')[0].replace('>','').strip()\n",
    "            if ref not in count_per_specie:\n",
    "                count_per_specie[ref] = 1\n",
    "            else:\n",
    "                count_per_specie[ref] += 1"
   ]
  },
  {
   "cell_type": "code",
   "execution_count": 26,
   "id": "9c5c5917-b063-4988-83bd-915968d96d26",
   "metadata": {},
   "outputs": [
    {
     "data": {
      "text/plain": [
       "14762927"
      ]
     },
     "execution_count": 26,
     "metadata": {},
     "output_type": "execute_result"
    }
   ],
   "source": [
    "series = pd.Series(count_per_specie)\n",
    "series.sum()"
   ]
  },
  {
   "cell_type": "code",
   "execution_count": 34,
   "id": "6e10739d-629e-4f2a-8694-9d00d6da2316",
   "metadata": {},
   "outputs": [],
   "source": [
    "sum_artificial_reads = {'Virus': 14406394, 'Bacteria': 12818976, 'Cassava': 14762927}\n",
    "species_num = {'Virus': 210152, 'Bacteria': 3322149, 'Cassava': 49290}"
   ]
  },
  {
   "cell_type": "code",
   "execution_count": 35,
   "id": "00e2da18-8021-4f3b-841f-47e1f8f9b85d",
   "metadata": {},
   "outputs": [
    {
     "name": "stdout",
     "output_type": "stream",
     "text": [
      "Virus 68.55225741368153\n",
      "Bacteria 3.858639693764488\n",
      "Cassava 299.5116047879894\n"
     ]
    }
   ],
   "source": [
    "for key in sum_artificial_reads:\n",
    "    print(key, sum_artificial_reads[key] / species_num[key])"
   ]
  }
 ],
 "metadata": {
  "kernelspec": {
   "display_name": "Python 3 (ipykernel)",
   "language": "python",
   "name": "python3"
  },
  "language_info": {
   "codemirror_mode": {
    "name": "ipython",
    "version": 3
   },
   "file_extension": ".py",
   "mimetype": "text/x-python",
   "name": "python",
   "nbconvert_exporter": "python",
   "pygments_lexer": "ipython3",
   "version": "3.8.19"
  }
 },
 "nbformat": 4,
 "nbformat_minor": 5
}
